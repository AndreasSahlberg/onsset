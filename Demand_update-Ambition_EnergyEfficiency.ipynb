{
 "cells": [
  {
   "cell_type": "code",
   "execution_count": null,
   "metadata": {},
   "outputs": [],
   "source": [
    "import pandas as pd\n",
    "import os\n",
    "from IPython.display import display, Markdown, HTML\n",
    "%matplotlib inline\n",
    "import tkinter as tk\n",
    "from tkinter import filedialog, messagebox\n",
    "from openpyxl import load_workbook\n",
    "root = tk.Tk()\n",
    "root.withdraw()\n",
    "root.attributes(\"-topmost\", True)"
   ]
  },
  {
   "cell_type": "code",
   "execution_count": null,
   "metadata": {},
   "outputs": [],
   "source": [
    "messagebox.showinfo('OnSSET', 'Open the input file with calibrated GIS data')\n",
    "input_file = filedialog.askopenfilename()\n",
    "df = pd.read_csv(input_file)"
   ]
  },
  {
   "cell_type": "code",
   "execution_count": null,
   "metadata": {},
   "outputs": [],
   "source": [
    "#df.sort_values(by=['Pop2018'], ascending=False, inplace=True)\n",
    "#cumulative_pop = df['Pop2018'].cumsum()/df['Pop2018'].sum()"
   ]
  },
  {
   "cell_type": "markdown",
   "metadata": {},
   "source": [
    "First, update the population and urbanization rate"
   ]
  },
  {
   "cell_type": "code",
   "execution_count": null,
   "metadata": {},
   "outputs": [],
   "source": [
    "years = [2025, 2030, 2040, 2050, 2060, 2070]\n",
    "time_step = {2025: 7,\n",
    "             2030: 5,\n",
    "             2040: 10,\n",
    "             2050: 10,\n",
    "             2060: 10,\n",
    "             2070: 10}"
   ]
  },
  {
   "cell_type": "code",
   "execution_count": null,
   "metadata": {},
   "outputs": [],
   "source": [
    "urbanization_rate = {2018: 0.2006, # Do not change the 2018 value, update the rest\n",
    "                    2025: 0.278,\n",
    "                    2030: 0.325,\n",
    "                    2040: 0.419,\n",
    "                    2050: 0.512,\n",
    "                    2060: 0.606,\n",
    "                    2070: 0.700}\n",
    "\n",
    "population = {2018: 107535000, # Do not change the 2018 value, update the rest\n",
    "              2025: 134270861.3,\n",
    "              2030: 149844437.1,\n",
    "              2040: 181468139.2,\n",
    "              2050: 211689329,\n",
    "              2060: 237834717.6,\n",
    "              2070: 259869772.8}\n",
    "\n",
    "household_size = {2018: 4.53, # Do not change the 2018 value, update the rest\n",
    "                  2025: 4.26,\n",
    "                  2030: 4.07,\n",
    "                  2040: 3.69,\n",
    "                  2050: 3.30,\n",
    "                  2060: 3.00,\n",
    "                  2070: 2.77}"
   ]
  },
  {
   "cell_type": "code",
   "execution_count": null,
   "metadata": {},
   "outputs": [],
   "source": [
    "for year in years:\n",
    "    urban_growth = (urbanization_rate[year] * population[year])/(urbanization_rate[year-time_step[year]] * population[year-time_step[year]])\n",
    "    rural_growth = ((1-urbanization_rate[year]) * population[year])/((1-urbanization_rate[year-time_step[year]]) * population[year-time_step[year]])\n",
    "    df.loc[df['IsUrban'] == 2, 'Pop{}'.format(year)] = df['Pop{}'.format(year-time_step[year])] * urban_growth\n",
    "    df.loc[df['IsUrban'] < 2, 'Pop{}'.format(year)] = df['Pop{}'.format(year-time_step[year])] * rural_growth\n",
    "    df['NumPeoplePerHH' + '{}'.format(year)] = household_size[year] "
   ]
  },
  {
   "cell_type": "code",
   "execution_count": null,
   "metadata": {},
   "outputs": [],
   "source": [
    "tier_1_urban = {2018: 19.1, \n",
    "                2025: 32,\n",
    "                2030: 25,\n",
    "                2040: 20,\n",
    "                2050: 18,\n",
    "                2060: 17,\n",
    "                2070: 17}  # kWh/household/year\n",
    "\n",
    "tier_2_urban = {2018: 229, \n",
    "                2025: 174,\n",
    "                2030: 156,\n",
    "                2040: 131,\n",
    "                2050: 120,\n",
    "                2060: 116,\n",
    "                2070: 115}  # kWh/household/year\n",
    "\n",
    "tier_3_urban = {2018: 619, \n",
    "                2025: 564,\n",
    "                2030: 533,\n",
    "                2040: 442,\n",
    "                2050: 384,\n",
    "                2060: 360,\n",
    "                2070: 354}  # kWh/household/year\n",
    "\n",
    "tier_4_urban = {2018: 1915, \n",
    "                2025: 1845,\n",
    "                2030: 1741,\n",
    "                2040: 1514,\n",
    "                2050: 1415,\n",
    "                2060: 1380,\n",
    "                2070: 1371}  # kWh/household/year\n",
    "\n",
    "tier_5_urban = {2018: 3785, \n",
    "                2025: 3497,\n",
    "                2030: 3366,\n",
    "                2040: 3007,\n",
    "                2050: 2753,\n",
    "                2060: 2622,\n",
    "                2070: 2580}  # kWh/household/year\n",
    "\n",
    "tier_1_rural = {2018: 5.9, \n",
    "                2025: 32,\n",
    "                2030: 25,\n",
    "                2040: 20,\n",
    "                2050: 18,\n",
    "                2060: 17,\n",
    "                2070: 17}  # kWh/household/year\n",
    "\n",
    "tier_2_rural = {2018: 181, \n",
    "                2025: 174,\n",
    "                2030: 156,\n",
    "                2040: 131,\n",
    "                2050: 120,\n",
    "                2060: 116,\n",
    "                2070: 115}  # kWh/household/year\n",
    "\n",
    "tier_3_rural = {2018: 572, \n",
    "                2025: 564,\n",
    "                2030: 533,\n",
    "                2040: 442,\n",
    "                2050: 384,\n",
    "                2060: 360,\n",
    "                2070: 354}  # kWh/household/year\n",
    "\n",
    "tier_4_rural = {2018: 1867, \n",
    "                2025: 1845,\n",
    "                2030: 1741,\n",
    "                2040: 1514,\n",
    "                2050: 1415,\n",
    "                2060: 1380,\n",
    "                2070: 1371}  # kWh/household/year\n",
    "\n",
    "tier_5_rural = {2018: 3737, \n",
    "                2025: 3497,\n",
    "                2030: 3366,\n",
    "                2040: 3007,\n",
    "                2050: 2753,\n",
    "                2060: 2622,\n",
    "                2070: 2580}  # kWh/household/year"
   ]
  },
  {
   "cell_type": "code",
   "execution_count": null,
   "metadata": {},
   "outputs": [],
   "source": [
    "tier_split_2025 = {5: 0.03, # Share of population in Tier 5 \n",
    "                   4: 0.18, # Share of population in Tier 5 or Tier 4\n",
    "                   3: 0.19, # Share of population in Tier 5 or Tier 4 or Tier 3\n",
    "                   2: 0.34, # Share of population in Tier 5 or Tier 4 or Tier 2\n",
    "                   1: 1} # Share of population in Tier 5 or Tier 4 or Tier 2 or Tier 1 (Always = 1)"
   ]
  },
  {
   "cell_type": "code",
   "execution_count": null,
   "metadata": {},
   "outputs": [],
   "source": [
    "tier_split_2030 = {5: 0.04,\n",
    "                   4: 0.31,\n",
    "                   3: 0.35,\n",
    "                   2: 0.53,\n",
    "                   1: 1}"
   ]
  },
  {
   "cell_type": "code",
   "execution_count": null,
   "metadata": {},
   "outputs": [],
   "source": [
    "tier_split_2040 = {5: 0.06,\n",
    "                   4: 0.45,\n",
    "                   3: 0.70,\n",
    "                   2: 0.86,\n",
    "                   1: 1}"
   ]
  },
  {
   "cell_type": "code",
   "execution_count": null,
   "metadata": {},
   "outputs": [],
   "source": [
    "tier_split_2050 = {5: 0.09,\n",
    "                   4: 0.56,\n",
    "                   3: 0.97,\n",
    "                   2: 1,\n",
    "                   1: 1}"
   ]
  },
  {
   "cell_type": "code",
   "execution_count": null,
   "metadata": {},
   "outputs": [],
   "source": [
    "tier_split_2060 = {5: 0.14,\n",
    "                   4: 0.70,\n",
    "                   3: 1,\n",
    "                   2: 1,\n",
    "                   1: 1}"
   ]
  },
  {
   "cell_type": "code",
   "execution_count": null,
   "metadata": {},
   "outputs": [],
   "source": [
    "tier_split_2070 = {5: 0.22,\n",
    "                   4: 0.85,\n",
    "                   3: 1,\n",
    "                   2: 1,\n",
    "                   1: 1}"
   ]
  },
  {
   "cell_type": "code",
   "execution_count": null,
   "metadata": {},
   "outputs": [],
   "source": [
    "tier_splits = {2025: tier_split_2025,\n",
    "               2030: tier_split_2030,\n",
    "               2040: tier_split_2040,\n",
    "               2050: tier_split_2050,\n",
    "               2060: tier_split_2060,\n",
    "               2070: tier_split_2070}"
   ]
  },
  {
   "cell_type": "code",
   "execution_count": null,
   "metadata": {},
   "outputs": [],
   "source": [
    "for year in years:\n",
    "    \n",
    "    df.sort_values(by=['Pop{}'.format(year)], ascending=False, inplace=True)\n",
    "    cumulative_pop = df['Pop{}'.format(year)].cumsum()/df['Pop{}'.format(year)].sum()\n",
    "    \n",
    "    tier_split = tier_splits[year]\n",
    "    \n",
    "    tier_1_urb = tier_1_urban[year]\n",
    "    tier_2_urb = tier_2_urban[year]\n",
    "    tier_3_urb = tier_3_urban[year]\n",
    "    tier_4_urb = tier_4_urban[year]\n",
    "    tier_5_urb = tier_5_urban[year]\n",
    "    \n",
    "    tier_1_rur = tier_1_rural[year]\n",
    "    tier_2_rur = tier_2_rural[year]\n",
    "    tier_3_rur = tier_3_rural[year]\n",
    "    tier_4_rur = tier_4_rural[year]\n",
    "    tier_5_rur = tier_5_rural[year]\n",
    "    \n",
    "    # Tier 1\n",
    "    df.loc[df['IsUrban'] == 2, 'ResidentialDemandTierCustom' + \"{}\".format(year)] = tier_1_urb / household_size[year]\n",
    "    df.loc[df['IsUrban'] < 2, 'ResidentialDemandTierCustom' + \"{}\".format(year)] = tier_1_rur / household_size[year]\n",
    "    df['Tier' + \"{}\".format(year)] = 1\n",
    "    # Tier 2\n",
    "    df.loc[(df['IsUrban'] == 2) & (cumulative_pop <= tier_split[2]), 'ResidentialDemandTierCustom' + \"{}\".format(year)] = tier_2_urb / household_size[year]\n",
    "    df.loc[(df['IsUrban'] < 2) & (cumulative_pop <= tier_split[2]), 'ResidentialDemandTierCustom' + \"{}\".format(year)] = tier_2_rur / household_size[year]\n",
    "    df.loc[cumulative_pop <= tier_split[2], 'Tier' + \"{}\".format(year)] = 2\n",
    "    # Tier 3\n",
    "    df.loc[(df['IsUrban'] == 2) & (cumulative_pop <= tier_split[3]), 'ResidentialDemandTierCustom' + \"{}\".format(year)] = tier_3_urb / household_size[year]\n",
    "    df.loc[(df['IsUrban'] < 2) & (cumulative_pop <= tier_split[3]), 'ResidentialDemandTierCustom' + \"{}\".format(year)] = tier_3_rur / household_size[year]\n",
    "    df.loc[cumulative_pop <= tier_split[3], 'Tier' + \"{}\".format(year)] = 3\n",
    "    # Tier 4\n",
    "    df.loc[(df['IsUrban'] == 2) & (cumulative_pop <= tier_split[4]), 'ResidentialDemandTierCustom' + \"{}\".format(year)] = tier_4_urb / household_size[year]\n",
    "    df.loc[(df['IsUrban'] < 2) & (cumulative_pop <= tier_split[4]), 'ResidentialDemandTierCustom' + \"{}\".format(year)] = tier_4_rur / household_size[year]\n",
    "    df.loc[cumulative_pop <= tier_split[4], 'Tier' + \"{}\".format(year)] = 4\n",
    "    # Tier 5\n",
    "    df.loc[(df['IsUrban'] == 2) & (cumulative_pop <= tier_split[5]), 'ResidentialDemandTierCustom' + \"{}\".format(year)] = tier_5_urb / household_size[year]\n",
    "    df.loc[(df['IsUrban'] < 2) & (cumulative_pop <= tier_split[5]), 'ResidentialDemandTierCustom' + \"{}\".format(year)] = tier_5_rur / household_size[year]\n",
    "    df.loc[cumulative_pop <= tier_split[5], 'Tier' + \"{}\".format(year)] = 5"
   ]
  },
  {
   "cell_type": "code",
   "execution_count": null,
   "metadata": {},
   "outputs": [],
   "source": [
    "scenario_name = 'AmbitionEE'"
   ]
  },
  {
   "cell_type": "code",
   "execution_count": null,
   "metadata": {},
   "outputs": [],
   "source": [
    "messagebox.showinfo('OnSSET', 'Browse to the folder where you want to save the outputs')\n",
    "df.sort_index(inplace=True)\n",
    "output_dir = filedialog.askdirectory()\n",
    "output_dir_results = os.path.join(output_dir, '{}.csv'.format(scenario_name))\n",
    "df.to_csv(output_dir_results, index=False)"
   ]
  },
  {
   "cell_type": "code",
   "execution_count": null,
   "metadata": {},
   "outputs": [],
   "source": []
  },
  {
   "cell_type": "code",
   "execution_count": null,
   "metadata": {},
   "outputs": [],
   "source": []
  }
 ],
 "metadata": {
  "kernelspec": {
   "display_name": "Python 3",
   "language": "python",
   "name": "python3"
  },
  "language_info": {
   "codemirror_mode": {
    "name": "ipython",
    "version": 3
   },
   "file_extension": ".py",
   "mimetype": "text/x-python",
   "name": "python",
   "nbconvert_exporter": "python",
   "pygments_lexer": "ipython3",
   "version": "3.8.5"
  }
 },
 "nbformat": 4,
 "nbformat_minor": 2
}
