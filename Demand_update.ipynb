{
 "cells": [
  {
   "cell_type": "code",
   "execution_count": 77,
   "metadata": {},
   "outputs": [
    {
     "data": {
      "text/plain": [
       "''"
      ]
     },
     "execution_count": 77,
     "metadata": {},
     "output_type": "execute_result"
    }
   ],
   "source": [
    "import pandas as pd\n",
    "import os\n",
    "from IPython.display import display, Markdown, HTML\n",
    "%matplotlib inline\n",
    "import tkinter as tk\n",
    "from tkinter import filedialog, messagebox\n",
    "from openpyxl import load_workbook\n",
    "root = tk.Tk()\n",
    "root.withdraw()\n",
    "root.attributes(\"-topmost\", True)"
   ]
  },
  {
   "cell_type": "code",
   "execution_count": 78,
   "metadata": {},
   "outputs": [],
   "source": [
    "messagebox.showinfo('OnSSET', 'Open the input file with calibrated GIS data')\n",
    "input_file = filedialog.askopenfilename()\n",
    "df = pd.read_csv(input_file)"
   ]
  },
  {
   "cell_type": "code",
   "execution_count": 79,
   "metadata": {},
   "outputs": [],
   "source": [
    "df.sort_values(by=['Pop2018'], ascending=False, inplace=True)\n",
    "cumulative_pop = df['Pop2018'].cumsum()/df['Pop2018'].sum()"
   ]
  },
  {
   "cell_type": "markdown",
   "metadata": {},
   "source": [
    "First, update the population and urbanization rate"
   ]
  },
  {
   "cell_type": "code",
   "execution_count": 80,
   "metadata": {},
   "outputs": [],
   "source": [
    "years = [2025, 2030, 2040, 2050, 2060, 2070]\n",
    "time_step = {2025: 7,\n",
    "             2030: 5,\n",
    "             2040: 10,\n",
    "             2050: 10,\n",
    "             2060: 10,\n",
    "             2070: 10}"
   ]
  },
  {
   "cell_type": "code",
   "execution_count": 81,
   "metadata": {},
   "outputs": [],
   "source": [
    "urbanization_rate = {2018: 0.2006, # Do not change the 2018 value, update the rest\n",
    "                    2025: 0.263,\n",
    "                    2030: 0.300,\n",
    "                    2040: 0.375,\n",
    "                    2050: 0.450,\n",
    "                    2060: 0.525,\n",
    "                    2070: 0.600}\n",
    "\n",
    "population = {2018: 107535000, # Do not change the 2018 value, update the rest\n",
    "              2025: 134208459,\n",
    "              2030: 149774797,\n",
    "              2040: 181383802,\n",
    "              2050: 211590946,\n",
    "              2060: 237724184,\n",
    "              2070: 261168812}\n",
    "\n",
    "household_size = {2018: 4.53, # Do not change the 2018 value, update the rest\n",
    "                  2025: 4.26,\n",
    "                  2030: 4.07,\n",
    "                  2040: 3.69,\n",
    "                  2050: 3.30,\n",
    "                  2060: 3.00,\n",
    "                  2070: 2.96}"
   ]
  },
  {
   "cell_type": "code",
   "execution_count": 82,
   "metadata": {},
   "outputs": [],
   "source": [
    "for year in years:\n",
    "    urban_growth = (urbanization_rate[year] * population[year])/(urbanization_rate[year-time_step[year]] * population[year-time_step[year]])\n",
    "    rural_growth = ((1-urbanization_rate[year]) * population[year])/((1-urbanization_rate[year-time_step[year]]) * population[year-time_step[year]])\n",
    "    df.loc[df['IsUrban'] == 2, 'Pop{}'.format(year)] = df['Pop{}'.format(year-time_step[year])] * urban_growth\n",
    "    df.loc[df['IsUrban'] < 2, 'Pop{}'.format(year)] = df['Pop{}'.format(year-time_step[year])] * rural_growth\n",
    "    df['NumPeoplePerHH' + '{}'.format(year)] = household_size[year] "
   ]
  },
  {
   "cell_type": "code",
   "execution_count": 83,
   "metadata": {},
   "outputs": [],
   "source": [
    "tier_1_urban = 19.1  # kWh/household/year\n",
    "tier_2_urban = 229\n",
    "tier_3_urban = 619\n",
    "tier_4_urban = 1915\n",
    "tier_5_urban = 3785\n",
    "\n",
    "tier_1_rural = 5.9  # kWh/household/year\n",
    "tier_2_rural = 181\n",
    "tier_3_rural = 572\n",
    "tier_4_rural = 1867\n",
    "tier_5_rural = 3737"
   ]
  },
  {
   "cell_type": "code",
   "execution_count": 84,
   "metadata": {},
   "outputs": [],
   "source": [
    "tier_split_2025 = {5: 0.03, # Share of population in Tier 5 \n",
    "                   4: 0.14, # Share of population in Tier 5 or Tier 4\n",
    "                   3: 0.14, # Share of population in Tier 5 or Tier 4 or Tier 3\n",
    "                   2: 0.29, # Share of population in Tier 5 or Tier 4 or Tier 2\n",
    "                   1: 1} # Share of population in Tier 5 or Tier 4 or Tier 2 or Tier 1 (Always = 1)"
   ]
  },
  {
   "cell_type": "code",
   "execution_count": 85,
   "metadata": {},
   "outputs": [],
   "source": [
    "tier_split_2030 = {5: 0.03,\n",
    "                   4: 0.20,\n",
    "                   3: 0.21,\n",
    "                   2: 0.37,\n",
    "                   1: 1}"
   ]
  },
  {
   "cell_type": "code",
   "execution_count": 86,
   "metadata": {},
   "outputs": [],
   "source": [
    "tier_split_2040 = {5: 0.05,\n",
    "                   4: 0.38,\n",
    "                   3: 0.45,\n",
    "                   2: 0.63,\n",
    "                   1: 1}"
   ]
  },
  {
   "cell_type": "code",
   "execution_count": 87,
   "metadata": {},
   "outputs": [],
   "source": [
    "tier_split_2050 = {5: 0.07,\n",
    "                   4: 0.49,\n",
    "                   3: 0.90,\n",
    "                   2: 1,\n",
    "                   1: 1}"
   ]
  },
  {
   "cell_type": "code",
   "execution_count": 90,
   "metadata": {},
   "outputs": [],
   "source": [
    "tier_split_2060 = {5: 0.11,\n",
    "                   4: 0.59,\n",
    "                   3: 1,\n",
    "                   2: 1,\n",
    "                   1: 1}"
   ]
  },
  {
   "cell_type": "code",
   "execution_count": 91,
   "metadata": {},
   "outputs": [],
   "source": [
    "tier_split_2070 = {5: 0.16,\n",
    "                   4: 0.67,\n",
    "                   3: 1,\n",
    "                   2: 1,\n",
    "                   1: 1}"
   ]
  },
  {
   "cell_type": "code",
   "execution_count": 92,
   "metadata": {},
   "outputs": [],
   "source": [
    "tier_splits = {2025: tier_split_2025,\n",
    "               2030: tier_split_2030,\n",
    "               2040: tier_split_2040,\n",
    "               2050: tier_split_2050,\n",
    "               2060: tier_split_2060,\n",
    "               2070: tier_split_2070}"
   ]
  },
  {
   "cell_type": "code",
   "execution_count": 93,
   "metadata": {},
   "outputs": [],
   "source": [
    "for year in years:\n",
    "    tier_split = tier_splits[year]\n",
    "    \n",
    "    # Tier 1\n",
    "    df.loc[df['IsUrban'] == 2, 'ResidentialDemandTierCustom' + \"{}\".format(year)] = tier_1_urban / household_size[year]\n",
    "    df.loc[df['IsUrban'] < 2, 'ResidentialDemandTierCustom' + \"{}\".format(year)] = tier_1_rural / household_size[year]\n",
    "    df['Tier' + \"{}\".format(year)] = 1\n",
    "    # Tier 2\n",
    "    df.loc[(df['IsUrban'] == 2) & (cumulative_pop <= tier_split[2]), 'ResidentialDemandTierCustom' + \"{}\".format(year)] = tier_2_urban / household_size[year]\n",
    "    df.loc[(df['IsUrban'] < 2) & (cumulative_pop <= tier_split[2]), 'ResidentialDemandTierCustom' + \"{}\".format(year)] = tier_2_rural / household_size[year]\n",
    "    df.loc[cumulative_pop <= tier_split[2], 'Tier' + \"{}\".format(year)] = 2\n",
    "    # Tier 3\n",
    "    df.loc[(df['IsUrban'] == 2) & (cumulative_pop <= tier_split[3]), 'ResidentialDemandTierCustom' + \"{}\".format(year)] = tier_3_urban / household_size[year]\n",
    "    df.loc[(df['IsUrban'] < 2) & (cumulative_pop <= tier_split[3]), 'ResidentialDemandTierCustom' + \"{}\".format(year)] = tier_3_rural / household_size[year]\n",
    "    df.loc[cumulative_pop <= tier_split[3], 'Tier' + \"{}\".format(year)] = 3\n",
    "    # Tier 4\n",
    "    df.loc[(df['IsUrban'] == 2) & (cumulative_pop <= tier_split[4]), 'ResidentialDemandTierCustom' + \"{}\".format(year)] = tier_4_urban / household_size[year]\n",
    "    df.loc[(df['IsUrban'] < 2) & (cumulative_pop <= tier_split[4]), 'ResidentialDemandTierCustom' + \"{}\".format(year)] = tier_4_rural / household_size[year]\n",
    "    df.loc[cumulative_pop <= tier_split[4], 'Tier' + \"{}\".format(year)] = 4\n",
    "    # Tier 5\n",
    "    df.loc[(df['IsUrban'] == 2) & (cumulative_pop <= tier_split[5]), 'ResidentialDemandTierCustom' + \"{}\".format(year)] = tier_5_urban / household_size[year]\n",
    "    df.loc[(df['IsUrban'] < 2) & (cumulative_pop <= tier_split[5]), 'ResidentialDemandTierCustom' + \"{}\".format(year)] = tier_5_rural / household_size[year]\n",
    "    df.loc[cumulative_pop <= tier_split[5], 'Tier' + \"{}\".format(year)] = 5"
   ]
  },
  {
   "cell_type": "code",
   "execution_count": 94,
   "metadata": {},
   "outputs": [],
   "source": [
    "scenario_name = 'BAU_Updated_Test'"
   ]
  },
  {
   "cell_type": "code",
   "execution_count": 95,
   "metadata": {},
   "outputs": [],
   "source": [
    "messagebox.showinfo('OnSSET', 'Browse to the folder where you want to save the outputs')\n",
    "df.sort_index(inplace=True)\n",
    "output_dir = filedialog.askdirectory()\n",
    "output_dir_results = os.path.join(output_dir, '{}.csv'.format(scenario_name))\n",
    "df.to_csv(output_dir_results, index=False)"
   ]
  },
  {
   "cell_type": "code",
   "execution_count": null,
   "metadata": {},
   "outputs": [],
   "source": []
  },
  {
   "cell_type": "code",
   "execution_count": null,
   "metadata": {},
   "outputs": [],
   "source": []
  }
 ],
 "metadata": {
  "kernelspec": {
   "display_name": "Python 3",
   "language": "python",
   "name": "python3"
  },
  "language_info": {
   "codemirror_mode": {
    "name": "ipython",
    "version": 3
   },
   "file_extension": ".py",
   "mimetype": "text/x-python",
   "name": "python",
   "nbconvert_exporter": "python",
   "pygments_lexer": "ipython3",
   "version": "3.7.1"
  }
 },
 "nbformat": 4,
 "nbformat_minor": 2
}
