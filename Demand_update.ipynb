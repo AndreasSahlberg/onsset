{
 "cells": [
  {
   "cell_type": "code",
   "execution_count": 30,
   "metadata": {},
   "outputs": [
    {
     "data": {
      "text/plain": [
       "''"
      ]
     },
     "execution_count": 30,
     "metadata": {},
     "output_type": "execute_result"
    }
   ],
   "source": [
    "import pandas as pd\n",
    "import os\n",
    "from IPython.display import display, Markdown, HTML\n",
    "%matplotlib inline\n",
    "import tkinter as tk\n",
    "from tkinter import filedialog, messagebox\n",
    "from openpyxl import load_workbook\n",
    "root = tk.Tk()\n",
    "root.withdraw()\n",
    "root.attributes(\"-topmost\", True)"
   ]
  },
  {
   "cell_type": "code",
   "execution_count": 31,
   "metadata": {},
   "outputs": [],
   "source": [
    "messagebox.showinfo('OnSSET', 'Open the input file with calibrated GIS data')\n",
    "input_file = filedialog.askopenfilename()\n",
    "df = pd.read_csv(input_file)"
   ]
  },
  {
   "cell_type": "code",
   "execution_count": 32,
   "metadata": {},
   "outputs": [],
   "source": [
    "df.sort_values(by=['Pop2018'], ascending=False, inplace=True)\n",
    "cumulative_pop = df['Pop2018'].cumsum()/df['Pop2018'].sum() "
   ]
  },
  {
   "cell_type": "code",
   "execution_count": 33,
   "metadata": {},
   "outputs": [],
   "source": [
    "tier_1 = 12.5  # kWh/household/year\n",
    "tier_2 = 204\n",
    "tier_3 = 596\n",
    "tier_4 = 1891\n",
    "tier_5 = 3761"
   ]
  },
  {
   "cell_type": "code",
   "execution_count": 34,
   "metadata": {},
   "outputs": [],
   "source": [
    "tier_split_2025 = {5: 0.03, # Share of population in Tier 5 \n",
    "                   4: 0.16, # Share of population in Tier 5 or Tier 4\n",
    "                   3: 0.16, # Share of population in Tier 5 or Tier 4 or Tier 3\n",
    "                   2: 0.32, # Share of population in Tier 5 or Tier 4 or Tier 2\n",
    "                   1: 1} # Share of population in Tier 5 or Tier 4 or Tier 2 or Tier 1 (Always = 1)"
   ]
  },
  {
   "cell_type": "code",
   "execution_count": 35,
   "metadata": {},
   "outputs": [],
   "source": [
    "tier_split_2030 = {5: 0.03,\n",
    "                   4: 0.20,\n",
    "                   3: 0.21,\n",
    "                   2: 0.37,\n",
    "                   1: 1}"
   ]
  },
  {
   "cell_type": "code",
   "execution_count": 36,
   "metadata": {},
   "outputs": [],
   "source": [
    "tier_split_2040 = {5: 0.04,\n",
    "                   4: 0.26,\n",
    "                   3: 0.37,\n",
    "                   2: 0.58,\n",
    "                   1: 1}"
   ]
  },
  {
   "cell_type": "code",
   "execution_count": 37,
   "metadata": {},
   "outputs": [],
   "source": [
    "tier_split_2050 = {5: 0.05,\n",
    "                   4: 0.35,\n",
    "                   3: 0.87,\n",
    "                   2: 1,\n",
    "                   1: 1}"
   ]
  },
  {
   "cell_type": "code",
   "execution_count": 38,
   "metadata": {},
   "outputs": [],
   "source": [
    "tier_split_2060 = {5: 0.07,\n",
    "                   4: 0.40,\n",
    "                   3: 0.99,\n",
    "                   2: 1,\n",
    "                   1: 1}"
   ]
  },
  {
   "cell_type": "code",
   "execution_count": 39,
   "metadata": {},
   "outputs": [],
   "source": [
    "tier_split_2070 = {5: 0.07,\n",
    "                   4: 0.40,\n",
    "                   3: 0.99,\n",
    "                   2: 1,\n",
    "                   1: 1}"
   ]
  },
  {
   "cell_type": "code",
   "execution_count": 40,
   "metadata": {},
   "outputs": [],
   "source": [
    "years = [2025, 2030, 2040, 2050, 2060, 2070]\n",
    "tier_splits = {2025: tier_split_2025,\n",
    "               2030: tier_split_2030,\n",
    "               2040: tier_split_2040,\n",
    "               2050: tier_split_2050,\n",
    "               2060: tier_split_2060,\n",
    "               2070: tier_split_2070}"
   ]
  },
  {
   "cell_type": "code",
   "execution_count": 41,
   "metadata": {},
   "outputs": [],
   "source": [
    "for year in years:\n",
    "    tier_split = tier_splits[year]\n",
    "    \n",
    "    # Tier 1\n",
    "    df.loc[df['IsUrban'] == 2, 'ResidentialDemandTierCustom' + \"{}\".format(year)] = tier_1 / 4.4\n",
    "    df.loc[df['IsUrban'] < 2, 'ResidentialDemandTierCustom' + \"{}\".format(year)] = tier_1 / 5.2\n",
    "    df['Tier' + \"{}\".format(year)] = 1\n",
    "    # Tier 2\n",
    "    df.loc[(df['IsUrban'] == 2) & (cumulative_pop <= tier_split[2]), 'ResidentialDemandTierCustom' + \"{}\".format(year)] = tier_2 / 4.4\n",
    "    df.loc[(df['IsUrban'] < 2) & (cumulative_pop <= tier_split[2]), 'ResidentialDemandTierCustom' + \"{}\".format(year)] = tier_2 / 5.2\n",
    "    df.loc[cumulative_pop <= tier_split[2], 'Tier' + \"{}\".format(year)] = 2\n",
    "    # Tier 3\n",
    "    df.loc[(df['IsUrban'] == 2) & (cumulative_pop <= tier_split[3]), 'ResidentialDemandTierCustom' + \"{}\".format(year)] = tier_3 / 4.4\n",
    "    df.loc[(df['IsUrban'] < 2) & (cumulative_pop <= tier_split[3]), 'ResidentialDemandTierCustom' + \"{}\".format(year)] = tier_3 / 5.2\n",
    "    df.loc[cumulative_pop <= tier_split[3], 'Tier' + \"{}\".format(year)] = 3\n",
    "    # Tier 4\n",
    "    df.loc[(df['IsUrban'] == 2) & (cumulative_pop <= tier_split[4]), 'ResidentialDemandTierCustom' + \"{}\".format(year)] = tier_4 / 4.4\n",
    "    df.loc[(df['IsUrban'] < 2) & (cumulative_pop <= tier_split[4]), 'ResidentialDemandTierCustom' + \"{}\".format(year)] = tier_4 / 5.2\n",
    "    df.loc[cumulative_pop <= tier_split[4], 'Tier' + \"{}\".format(year)] = 4\n",
    "    # Tier 5\n",
    "    df.loc[(df['IsUrban'] == 2) & (cumulative_pop <= tier_split[5]), 'ResidentialDemandTierCustom' + \"{}\".format(year)] = tier_5 / 4.4\n",
    "    df.loc[(df['IsUrban'] < 2) & (cumulative_pop <= tier_split[5]), 'ResidentialDemandTierCustom' + \"{}\".format(year)] = tier_5 / 5.2\n",
    "    df.loc[cumulative_pop <= tier_split[5], 'Tier' + \"{}\".format(year)] = 5"
   ]
  },
  {
   "cell_type": "code",
   "execution_count": 42,
   "metadata": {},
   "outputs": [],
   "source": [
    "scenario_name = 'High_Ambition_FemiV1'"
   ]
  },
  {
   "cell_type": "code",
   "execution_count": 43,
   "metadata": {},
   "outputs": [],
   "source": [
    "messagebox.showinfo('OnSSET', 'Browse to the folder where you want to save the outputs')\n",
    "df.sort_index(inplace=True)\n",
    "output_dir = filedialog.askdirectory()\n",
    "output_dir_results = os.path.join(output_dir, '{}.csv'.format(scenario_name))\n",
    "df.to_csv(output_dir_results, index=False)"
   ]
  },
  {
   "cell_type": "code",
   "execution_count": null,
   "metadata": {},
   "outputs": [],
   "source": []
  },
  {
   "cell_type": "code",
   "execution_count": null,
   "metadata": {},
   "outputs": [],
   "source": []
  }
 ],
 "metadata": {
  "kernelspec": {
   "display_name": "Python 3",
   "language": "python",
   "name": "python3"
  },
  "language_info": {
   "codemirror_mode": {
    "name": "ipython",
    "version": 3
   },
   "file_extension": ".py",
   "mimetype": "text/x-python",
   "name": "python",
   "nbconvert_exporter": "python",
   "pygments_lexer": "ipython3",
   "version": "3.7.1"
  }
 },
 "nbformat": 4,
 "nbformat_minor": 2
}
