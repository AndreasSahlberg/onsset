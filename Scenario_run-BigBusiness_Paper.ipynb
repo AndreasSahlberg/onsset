{
 "cells": [
  {
   "cell_type": "markdown",
   "metadata": {},
   "source": [
    "# Scenario Generator\n",
    "\n",
    "This jupyter based interface has been designed to support scenario runs for the Ethiopia PATHWAYS project. \n",
    "\n",
    "The interface is built upon [OnSSET](http://www.onsset.org/) developed by KTH division of Energy Systems to provide an easy and quick way to generate electrification investment scenarios for the Ethiopia PATHWAYS project. "
   ]
  },
  {
   "cell_type": "markdown",
   "metadata": {},
   "source": [
    "#### Start by importing the code "
   ]
  },
  {
   "cell_type": "code",
   "execution_count": null,
   "metadata": {
    "scrolled": false
   },
   "outputs": [],
   "source": [
    "from onsset import *\n",
    "from IPython.display import display, Markdown, HTML\n",
    "%matplotlib inline"
   ]
  },
  {
   "cell_type": "markdown",
   "metadata": {},
   "source": [
    "# 1. GIS data selection\n",
    "\n",
    "First, run the cell below to browse to the directory where your calibrated input CSV file is located at and select the input file.\n"
   ]
  },
  {
   "cell_type": "code",
   "execution_count": null,
   "metadata": {
    "scrolled": true
   },
   "outputs": [],
   "source": [
    "import tkinter as tk\n",
    "from tkinter import filedialog, messagebox\n",
    "from openpyxl import load_workbook\n",
    "root = tk.Tk()\n",
    "root.withdraw()\n",
    "root.attributes(\"-topmost\", True)\n",
    "messagebox.showinfo('OnSSET', 'Open the input file with extracted GIS data')\n",
    "input_file = filedialog.askopenfilename()\n",
    "\n",
    "onsseter = SettlementProcessor(input_file)\n",
    "onsseter.df['IsUrban'] = 0\n",
    "onsseter.df['Conflict'] = 0\n",
    "onsseter.df['PerCapitaDemand'] = 0"
   ]
  },
  {
   "cell_type": "code",
   "execution_count": null,
   "metadata": {},
   "outputs": [],
   "source": [
    "compat=1"
   ]
  },
  {
   "cell_type": "code",
   "execution_count": null,
   "metadata": {},
   "outputs": [],
   "source": [
    "scenario_name = \"BigBusiness_Compat_1_LowHangingFruit\""
   ]
  },
  {
   "cell_type": "code",
   "execution_count": null,
   "metadata": {},
   "outputs": [],
   "source": [
    "messagebox.showinfo('OnSSET', 'Browse to the folder where you want to save the outputs')\n",
    "\n",
    "output_dir = filedialog.askdirectory()\n",
    "output_dir_variables = os.path.join(output_dir, '{}_Variables.csv'.format(scenario_name))\n",
    "output_dir_results = os.path.join(output_dir, '{}_Results.csv'.format(scenario_name))\n",
    "output_dir_summaries = os.path.join(output_dir, '{}_Summaries.csv'.format(scenario_name))\n",
    "output_dir_unelectrified_summaries = os.path.join(output_dir, '{}_Unelectrified_Summaries.csv'.format(scenario_name))\n",
    "output_dir_electrified_summaries = os.path.join(output_dir, '{}_Electrified_Summaries.csv'.format(scenario_name))\n",
    "output_dir_combined_summaries = os.path.join(output_dir, '{}_Combined_Summaries.csv'.format(scenario_name))"
   ]
  },
  {
   "cell_type": "markdown",
   "metadata": {},
   "source": [
    "# 2. Modelling period and target electrification rate\n",
    "\n",
    "Next, define the modelling period and the electrification rate to be achieved by the years of the analysis."
   ]
  },
  {
   "cell_type": "code",
   "execution_count": null,
   "metadata": {
    "scrolled": true
   },
   "outputs": [],
   "source": [
    "start_year = 2018\n",
    "end_year = 2070\n",
    "yearsofanalysis = [2025, 2030, 2040, 2050, 2060, 2070]\n",
    "time_steps = {2025: 7, \n",
    "              2030: 5, \n",
    "              2040: 10, \n",
    "              2050: 10, \n",
    "              2060: 10, \n",
    "              2070: 10}\n",
    "\n",
    "# Electrification rate target. E.g. 1 = 100%, 0.5 = 50%\n",
    "eleclimits = {2025: 0.54, \n",
    "              2030: 0.62, \n",
    "              2040: 0.92, \n",
    "              2050: 1, \n",
    "              2060: 1, \n",
    "              2070: 1}\n",
    "\n",
    "time_step_number = {2025: 1, \n",
    "                    2030: 2, \n",
    "                    2040: 3, \n",
    "                    2050: 4, \n",
    "                    2060: 5, \n",
    "                    2070: 6}"
   ]
  },
  {
   "cell_type": "code",
   "execution_count": null,
   "metadata": {},
   "outputs": [],
   "source": [
    "# This is the maximum generation capacity (in MW) that can be added to the grid in one year. \n",
    "# \"999999999\" means that it is effectively unlimited.\n",
    "annual_grid_cap_gen_limit = {2025: 999999999, \n",
    "                             2030: 999999999, \n",
    "                             2040: 999999999999, \n",
    "                             2050: 999999999999, \n",
    "                             2060: 999999999999, \n",
    "                             2070: 999999999999}      "
   ]
  },
  {
   "cell_type": "code",
   "execution_count": null,
   "metadata": {
    "scrolled": true
   },
   "outputs": [],
   "source": [
    "# Buffer distance (km) from the current grid network for automatic connection to the grid. \n",
    "# 5 km reflects approximately 65% of the population, 25 km reflects approximately 95% of the population. \n",
    "# 0 means that there is no automatic connection to the grid, each settlement will consider both on- and off-grid alternatives\n",
    "auto_intensification = {2025: 0, \n",
    "                        2030: 0, \n",
    "                        2040: 1, \n",
    "                        2050: 2, \n",
    "                        2060: 2, \n",
    "                        2070: 2}"
   ]
  },
  {
   "cell_type": "code",
   "execution_count": null,
   "metadata": {},
   "outputs": [],
   "source": [
    "# This is the maximum amount of new households that can be connected to the grid in one year (thousands).\n",
    "# \"999999999\" means that it is effectively unlimited.\n",
    "annual_new_grid_connections_limit = {2025: 500, \n",
    "                                     2030: 500, \n",
    "                                     2040: 750, \n",
    "                                     2050: 1000, \n",
    "                                     2060: 999999999999, \n",
    "                                     2070: 999999999999} "
   ]
  },
  {
   "cell_type": "markdown",
   "metadata": {},
   "source": [
    "### b. Technology specifications & costs\n",
    "\n",
    "The cell below contains all the information that is used to calculate the levelized costs for all the technologies, including grid. These default values should be updated to reflect the most accurate values in the country. There are currently 7 potential technologies to include in the model:\n",
    "* Grid\n",
    "* PV Mini-grid\n",
    "* Wind Mini-grid\n",
    "* Hydro Mini-grid\n",
    "* Diesel Mini-grid\n",
    "* PV Stand-alone systems\n",
    "* Diesel Stand-alone systems\n",
    "\n",
    "First, decide whether to include diesel technologies or not:"
   ]
  },
  {
   "cell_type": "code",
   "execution_count": null,
   "metadata": {
    "scrolled": true
   },
   "outputs": [],
   "source": [
    "diesel_techs = 0                      ### 0 = diesel NOT included, 1 = diesel included "
   ]
  },
  {
   "cell_type": "markdown",
   "metadata": {},
   "source": [
    "The grid generation cost and grid power plants capital cost below for each time-step is given from the OSeMOSYS analysis"
   ]
  },
  {
   "cell_type": "code",
   "execution_count": null,
   "metadata": {},
   "outputs": [],
   "source": [
    "### This is the grid cost electricity USD/kWh as expected in the years of the analysis\n",
    "grid_generation_cost = {2025: 0.06, \n",
    "                        2030: 0.07, \n",
    "                        2040: 0.08, \n",
    "                        2050: 0.08, \n",
    "                        2060: 0.09, \n",
    "                        2070: 0.08}\n",
    "\n",
    "\n",
    "### The cost in USD/kW to for power generation capacity additions to the grid\n",
    "grid_power_plants_capital_cost = {2025: 2699, \n",
    "                                  2030: 3196, \n",
    "                                  2040: 2364, \n",
    "                                  2050: 2285, \n",
    "                                  2060: 2371, \n",
    "                                  2070: 2242}"
   ]
  },
  {
   "cell_type": "code",
   "execution_count": null,
   "metadata": {
    "scrolled": true
   },
   "outputs": [],
   "source": [
    "### The fraction of electricity lost in transmission and distribution (percentage) \n",
    "grid_losses = {2025: 0.122, \n",
    "               2030: 0.122, \n",
    "               2040: 0.122, \n",
    "               2050: 0.122, \n",
    "               2060: 0.122, \n",
    "               2070: 0.122}                     "
   ]
  },
  {
   "cell_type": "code",
   "execution_count": null,
   "metadata": {
    "scrolled": true
   },
   "outputs": [],
   "source": [
    "### This is the diesel price in USD/liter as expected in the years of the analysis.\n",
    "diesel_price = {2025: 0.85, \n",
    "                2030: 0.85*1.44, \n",
    "                2040: 0.85*1.49, \n",
    "                2050: 0.85*1.74, \n",
    "                2060: 0.85*1.77, \n",
    "                2070: 0.85*1.79}                   "
   ]
  },
  {
   "cell_type": "code",
   "execution_count": null,
   "metadata": {
    "scrolled": true
   },
   "outputs": [],
   "source": [
    "### Stand-alone Diesel capital cost (USD/kW) as expected in the years of the analysis\n",
    "sa_diesel_capital_cost = {2025: 999999, \n",
    "                          2030: 999999, \n",
    "                          2040: 999999, \n",
    "                          2050: 999999, \n",
    "                          2060: 999999, \n",
    "                          2070: 999999}\n",
    "\n",
    "### Mini-grid Diesel capital cost (USD/kW) as expected in the years of the analysis\n",
    "mg_diesel_capital_cost = {2025: 721, \n",
    "                          2030: 721, \n",
    "                          2040: 721, \n",
    "                          2050: 721, \n",
    "                          2060: 721, \n",
    "                          2070: 721}\n",
    "\n",
    "### Mini-grid PV capital cost (USD/kW) as expected in the years of the analysis\n",
    "mg_pv_capital_cost = {2025: 2829, \n",
    "                      2030: 2540, \n",
    "                      2040: 2252, \n",
    "                      2050: 1977, \n",
    "                      2060: 1703, \n",
    "                      2070: 1428}\n",
    "\n",
    "### Mini-grid Wind capital cost (USD/kW) as expected in the years of the analysis\n",
    "mg_wind_capital_cost = {2025: 4356, \n",
    "                        2030: 4285, \n",
    "                        2040: 4213, \n",
    "                        2050: 4117, \n",
    "                        2060: 4021, \n",
    "                        2070: 3926}\n",
    "\n",
    "### Mini-grid Hydro capital cost (USD/kW) as expected in the years of the analysis\n",
    "mg_hydro_capital_cost = {2025: 3000, \n",
    "                         2030: 3000, \n",
    "                         2040: 3000, \n",
    "                         2050: 3000, \n",
    "                         2060: 3000, \n",
    "                         2070: 3000}          "
   ]
  },
  {
   "cell_type": "code",
   "execution_count": null,
   "metadata": {
    "scrolled": true
   },
   "outputs": [],
   "source": [
    "### Stand-alone PV capital cost (USD/kW) for household systems under 20 W\n",
    "sa_pv_capital_cost_1 = {2025: 9067, \n",
    "                        2030: 8143, \n",
    "                        2040: 7218, \n",
    "                        2050: 6338, \n",
    "                        2060: 5458, \n",
    "                        2070: 4577}\n",
    "### Stand-alone PV capital cost (USD/kW) for household systems between 21-50 W\n",
    "sa_pv_capital_cost_2 = {2025: 8487, \n",
    "                        2030: 7621, \n",
    "                        2040: 6756, \n",
    "                        2050: 5932, \n",
    "                        2060: 5108, \n",
    "                        2070: 4285}\n",
    "### Stand-alone PV capital cost (USD/kW) for household systems between 51-100 W\n",
    "sa_pv_capital_cost_3 = {2025: 6165, \n",
    "                        2030: 5537, \n",
    "                        2040: 4908, \n",
    "                        2050: 4310, \n",
    "                        2060: 3711, \n",
    "                        2070: 3113}\n",
    "### Stand-alone PV capital cost (USD/kW) for household systems between 101-1000 W\n",
    "sa_pv_capital_cost_4 = {2025: 4316, \n",
    "                        2030: 3876, \n",
    "                        2040: 3436, \n",
    "                        2050: 3017, \n",
    "                        2060: 2598, \n",
    "                        2070: 2179}\n",
    "### Stand-alone PV capital cost (USD/kW) for household systems over 1 kW\n",
    "sa_pv_capital_cost_5 = {2025: 6710, \n",
    "                        2030: 6026, \n",
    "                        2040: 5342, \n",
    "                        2050: 4690, \n",
    "                        2060: 4039, \n",
    "                        2070: 3387}           "
   ]
  },
  {
   "cell_type": "markdown",
   "metadata": {},
   "source": [
    "The cells below contain additional technology specifications"
   ]
  },
  {
   "cell_type": "code",
   "execution_count": null,
   "metadata": {
    "scrolled": true
   },
   "outputs": [],
   "source": [
    "discount_rate = 0.085                  ### E.g. 0.10 means a discount rate of 10%\n",
    "\n",
    "# Transmission and distribution costs\n",
    "existing_grid_cost_ratio = 0.1        ### The additional cost per round of electrification (percentage)\n",
    "hv_line_capacity=69 # kV\n",
    "hv_line_cost=53000 # USD/km\n",
    "mv_line_cost = 7000 # USD/kW\n",
    "mv_line_capacity=50 # kV\n",
    "# mv_line_max_length=50 # km\n",
    "mv_increase_rate=0.1\n",
    "max_mv_line_dist = 100 # km\n",
    "MV_line_amperage_limit = 8  # Ampere (A)\n",
    "lv_line_capacity=0.24 #kV\n",
    "lv_line_max_length=0.8 # km\n",
    "lv_line_cost=4250 # USD/km\n",
    "service_Transf_type=50  # kVa\n",
    "service_Transf_cost=4250  # $/unit\n",
    "max_nodes_per_serv_trans=300  # maximum number of nodes served by each service transformer\n",
    "hv_lv_transformer_cost=25000 # USD/unit\n",
    "hv_mv_transformer_cost=25000 # USD/unit\n",
    "mv_lv_transformer_cost=10000 # USD/unit\n",
    "mv_mv_transformer_cost=10000 # USD/unit\n",
    "\n",
    "Technology.set_default_values(base_year=start_year, start_year=start_year, end_year=end_year, discount_rate=discount_rate,\n",
    "                             hv_line_type=hv_line_capacity, hv_line_cost=hv_line_cost, mv_line_type=mv_line_capacity,\n",
    "                             mv_line_amperage_limit=MV_line_amperage_limit, mv_line_cost=mv_line_cost, lv_line_type=lv_line_capacity,\n",
    "                             lv_line_cost=lv_line_cost, lv_line_max_length=lv_line_max_length, \n",
    "                             service_transf_type=service_Transf_type, service_transf_cost = service_Transf_cost,\n",
    "                             max_nodes_per_serv_trans=max_nodes_per_serv_trans, mv_lv_sub_station_cost=mv_lv_transformer_cost,\n",
    "                             mv_mv_sub_station_cost=mv_mv_transformer_cost, hv_lv_sub_station_cost=hv_lv_transformer_cost,\n",
    "                             hv_mv_sub_station_cost=hv_mv_transformer_cost)\n"
   ]
  },
  {
   "cell_type": "markdown",
   "metadata": {},
   "source": [
    "# 7. Start a scenario run, which calculate and compare technology costs for every settlement in the country\n",
    "\n",
    "Based on the previous calculation this piece of code identifies the LCoE that every off-grid technology can provide, for each single populated settlement of the selected country. The cell then takes all the currently grid-connected points in the country, and looks at the points within a certain distance from them, to see if it is more economical to connect them to the grid, or to use one of the off-grid technologies calculated above. Once more points are connected to the grid, the process is repeated, so that new points close to those points might also be connected. This is repeated until there are no new points to connect to the grid."
   ]
  },
  {
   "cell_type": "code",
   "execution_count": null,
   "metadata": {
    "scrolled": true
   },
   "outputs": [],
   "source": [
    "onsseter.current_mv_line_dist(2018)\n",
    "\n",
    "for year in yearsofanalysis:\n",
    "    end_year_pop = 1\n",
    "    prioritization = 5\n",
    "        \n",
    "    eleclimit = eleclimits[year]\n",
    "    time_step = time_steps[year]\n",
    "    time_step_no = time_step_number[year]\n",
    "    \n",
    "    # Centralized grid costs\n",
    "    grid_calc = Technology(om_of_td_lines=0.02,\n",
    "                        distribution_losses=grid_losses[year],\n",
    "                        connection_cost_per_hh=125,\n",
    "                        base_to_peak_load_ratio=0.8,\n",
    "                        capacity_factor=1,\n",
    "                        tech_life=30,\n",
    "                        grid_capacity_investment=grid_power_plants_capital_cost[year],\n",
    "                        grid_price=grid_generation_cost[year])\n",
    "\n",
    "    # Mini-grid hydro costs\n",
    "    mg_hydro_calc = Technology(om_of_td_lines=0.02,\n",
    "                            distribution_losses=0.05,\n",
    "                            connection_cost_per_hh=100,\n",
    "                            base_to_peak_load_ratio=0.85,\n",
    "                            capacity_factor=0.5,\n",
    "                            tech_life=30,\n",
    "                            capital_cost={float(\"inf\"): mg_hydro_capital_cost[year]},\n",
    "                            om_costs=0.03,\n",
    "                            )\n",
    "\n",
    "    # Mini-grid wind costs\n",
    "    mg_wind_calc = Technology(om_of_td_lines=0.02,\n",
    "                            distribution_losses=0.05,\n",
    "                            connection_cost_per_hh=100,\n",
    "                            base_to_peak_load_ratio=0.85,\n",
    "                            capital_cost={float(\"inf\"): mg_wind_capital_cost[year]},\n",
    "                            om_costs=0.02,\n",
    "                            tech_life=20,\n",
    "                            )\n",
    "\n",
    "    # Mini-grid PV costs\n",
    "    mg_pv_calc = Technology(om_of_td_lines=0.02,\n",
    "                        distribution_losses=0.05,\n",
    "                        connection_cost_per_hh=100,\n",
    "                        base_to_peak_load_ratio=0.85,\n",
    "                        tech_life=20,\n",
    "                        om_costs=0.015,\n",
    "                        capital_cost={float(\"inf\"): mg_pv_capital_cost[year]}                        \n",
    "                       )\n",
    "\n",
    "    # Stand-alone PV costs\n",
    "    sa_pv_calc = Technology(base_to_peak_load_ratio=0.9,\n",
    "                        tech_life=15,\n",
    "                        om_costs=0.02,\n",
    "                        capital_cost={0.020: sa_pv_capital_cost_1[year], \n",
    "                                      0.050: sa_pv_capital_cost_2[year], \n",
    "                                      0.100: sa_pv_capital_cost_3[year], \n",
    "                                      1: sa_pv_capital_cost_4[year], \n",
    "                                      5: sa_pv_capital_cost_5[year]},\n",
    "                        standalone=True\n",
    "                        )\n",
    "\n",
    "    # Mini-grid diesel costs\n",
    "    mg_diesel_calc = Technology(om_of_td_lines=0.02,\n",
    "                            distribution_losses=0.05,\n",
    "                            connection_cost_per_hh=100,\n",
    "                            base_to_peak_load_ratio=0.85,\n",
    "                            capacity_factor=0.7,\n",
    "                            tech_life=15,\n",
    "                            om_costs=0.1,\n",
    "                            capital_cost={float(\"inf\"): mg_diesel_capital_cost[year]}\n",
    "                            )\n",
    "\n",
    "    # Stand-alone diesel costs\n",
    "    sa_diesel_calc = Technology(base_to_peak_load_ratio=0.9,\n",
    "                            capacity_factor=0.5,\n",
    "                            tech_life=10,\n",
    "                            om_costs=0.1,\n",
    "                            capital_cost={float(\"inf\"): sa_diesel_capital_cost[year]},\n",
    "                            standalone=True)\n",
    "    \n",
    "    sa_diesel_cost = {'diesel_price': diesel_price[year],\n",
    "                          'efficiency': 0.28,\n",
    "                          'diesel_truck_consumption': 14,\n",
    "                          'diesel_truck_volume': 300}\n",
    "\n",
    "\n",
    "    mg_diesel_cost = {'diesel_price':diesel_price[year],\n",
    "                          'efficiency': 0.33,\n",
    "                          'diesel_truck_consumption': 33.7,\n",
    "                          'diesel_truck_volume': 15000}\n",
    "    \n",
    "    start_year = year - time_step\n",
    "    end_year = year\n",
    "    \n",
    "    grid_cap_gen_limit = time_step * annual_grid_cap_gen_limit[year] * 1000\n",
    "    grid_connect_limit = time_step * annual_new_grid_connections_limit[year] * 1000\n",
    "    \n",
    "    onsseter.set_scenario_variables(year, 1, 1, time_step, start_year, 6, 6, 1, 0, time_step_no)\n",
    "    \n",
    "    onsseter.diesel_cost_columns(sa_diesel_cost, mg_diesel_cost, year)\n",
    "\n",
    "    sa_diesel_investment, sa_pv_investment, mg_diesel_investment, mg_pv_investment, mg_wind_investment, mg_hydro_investment = onsseter.calculate_off_grid_lcoes(mg_hydro_calc, mg_wind_calc, mg_pv_calc, sa_pv_calc, mg_diesel_calc,\n",
    "                                        sa_diesel_calc, year, end_year, time_step, diesel_techs=diesel_techs)\n",
    "\n",
    "    grid_investment, grid_cap_gen_limit, grid_connect_limit = onsseter.pre_electrification(year, time_step, end_year, grid_calc, grid_cap_gen_limit, grid_connect_limit)\n",
    "\n",
    "    onsseter.df[SET_LCOE_GRID + \"{}\".format(year)], onsseter.df[SET_MIN_GRID_DIST + \"{}\".format(year)], onsseter.df[\n",
    "                SET_ELEC_ORDER + \"{}\".format(year)], onsseter.df[SET_MV_CONNECT_DIST], grid_investment = onsseter.elec_extension(grid_calc, \n",
    "                    max_mv_line_dist, year, start_year, end_year, time_step, grid_cap_gen_limit, \n",
    "                    grid_connect_limit, new_investment=grid_investment, auto_intensification=auto_intensification[year],\n",
    "                    prioritization=prioritization, compatability=compat)\n",
    "\n",
    "    onsseter.results_columns(mg_hydro_calc, mg_wind_calc, mg_pv_calc, sa_pv_calc, mg_diesel_calc,\n",
    "                                     sa_diesel_calc, grid_calc, year, auto_intensification[year], time_step, prioritization)\n",
    "\n",
    "    onsseter.calculate_investments(sa_diesel_investment, sa_pv_investment, mg_diesel_investment, mg_pv_investment,\n",
    "                              mg_wind_investment, mg_hydro_investment, grid_investment, year)\n",
    "\n",
    "    onsseter.apply_limitations(eleclimit, year, time_step, prioritization, auto_intensification[year])\n",
    "    \n",
    "    onsseter.calculate_new_capacity(mg_hydro_calc, mg_wind_calc, mg_pv_calc, sa_pv_calc, mg_diesel_calc,\n",
    "                                            sa_diesel_calc, grid_calc, year)\n",
    "\n",
    "    onsseter.pv_system_type(year, sa_pv_calc)\n",
    "    \n",
    "    onsseter.time_step_remaining_cap(mg_hydro_calc, mg_wind_calc, mg_pv_calc, sa_pv_calc, mg_diesel_calc, sa_diesel_calc, grid_calc, year, start_year, time_step_no)"
   ]
  },
  {
   "cell_type": "markdown",
   "metadata": {},
   "source": [
    "# 8. Results, Summaries and Visualization\n",
    "With all the calculations and grid-extensions complete, this block gets the final results on which technology was chosen for each point, how much capacity needs to be installed and what it will cost. Then the summaries, plots and maps are generated."
   ]
  },
  {
   "cell_type": "code",
   "execution_count": null,
   "metadata": {
    "scrolled": true
   },
   "outputs": [],
   "source": [
    "elements = []\n",
    "for year in yearsofanalysis:\n",
    "    elements.append(\"Population{}\".format(year))\n",
    "    elements.append(\"NewConnections{}\".format(year))\n",
    "    elements.append(\"Capacity{}\".format(year))\n",
    "    elements.append(\"Investment{}\".format(year))\n",
    "\n",
    "techs = [\"Grid\", \"SA_Diesel\", \"SA_PV\", \"MG_Diesel\", \"MG_PV\", \"MG_Wind\", \"MG_Hydro\"]\n",
    "\n",
    "sumtechs = []\n",
    "for year in yearsofanalysis:\n",
    "    sumtechs.extend([\"Population{}\".format(year) + t for t in techs])\n",
    "    sumtechs.extend([\"NewConnections{}\".format(year) + t for t in techs])\n",
    "    sumtechs.extend([\"Capacity{}\".format(year) + t for t in techs])\n",
    "    sumtechs.extend([\"Investment{}\".format(year) + t for t in techs])\n",
    "\n",
    "summary = pd.Series(index=sumtechs, name='country')\n",
    "\n",
    "for year in yearsofanalysis:\n",
    "    for t in techs:\n",
    "        summary.loc[\"Population{}\".format(year) + t] = onsseter.df.loc[(onsseter.df[SET_MIN_OVERALL + '{}'.format(year)] == t + '{}'.format(year)) & (onsseter.df[SET_ELEC_FINAL_CODE + '{}'.format(year)] < 99), SET_POP + '{}'.format(year)].sum()\n",
    "        summary.loc[\"NewConnections{}\".format(year) + t] = onsseter.df.loc[(onsseter.df[SET_MIN_OVERALL + '{}'.format(year)] == t + '{}'.format(year)) & (onsseter.df[SET_ELEC_FINAL_CODE + '{}'.format(year)] < 99), SET_NEW_CONNECTIONS + '{}'.format(year)].sum()\n",
    "        summary.loc[\"Capacity{}\".format(year) + t] = onsseter.df.loc[(onsseter.df[SET_MIN_OVERALL + '{}'.format(year)] == t + '{}'.format(year)) & (onsseter.df[SET_ELEC_FINAL_CODE + '{}'.format(year)] < 99), SET_NEW_CAPACITY + '{}'.format(year)].sum()/1000\n",
    "        summary.loc[\"Investment{}\".format(year) + t] = onsseter.df.loc[(onsseter.df[SET_MIN_OVERALL + '{}'.format(year)] == t + '{}'.format(year)) & (onsseter.df[SET_ELEC_FINAL_CODE + '{}'.format(year)] < 99), SET_INVESTMENT_COST + '{}'.format(year)].sum()\n",
    "        \n",
    "index = techs + ['Total']\n",
    "columns = []\n",
    "for year in yearsofanalysis:\n",
    "    columns.append(\"Population{}\".format(year))\n",
    "    columns.append(\"NewConnections{}\".format(year))\n",
    "    columns.append(\"Capacity{} (MW)\".format(year))\n",
    "    columns.append(\"Investment{} (million USD)\".format(year))\n",
    "                                                                                                                                           \n",
    "summary_table = pd.DataFrame(index=index, columns=columns)\n",
    "turn = 0\n",
    "for years in yearsofanalysis:\n",
    "    summary_table[columns[turn * 4]] = summary.iloc[turn * 28:turn * 28 + 7].astype(int).tolist() + [int(summary.iloc[turn * 28:turn * 28 + 7].sum())]\n",
    "    summary_table[columns[turn * 4 + 1]] = summary.iloc[turn * 28 + 7:turn * 28 + 14].astype(int).tolist() + [int(summary.iloc[turn * 28 + 7:turn * 28 + 14].sum())]\n",
    "    summary_table[columns[turn * 4 + 2]] = summary.iloc[turn * 28 + 14:turn * 28 + 21].astype(int).tolist() + [int(summary.iloc[turn * 28 + 14:turn * 28 + 21].sum())]\n",
    "    summary_table[columns[turn * 4 + 3]] = [round(x/1e4)/1e2 for x in summary.iloc[turn * 28 + 21:turn * 28 + 28].astype(float).tolist()] + [round(summary.iloc[turn * 28 + 21:turn * 28 + 28].sum()/1e4)/1e2]\n",
    "    turn += 1\n"
   ]
  },
  {
   "cell_type": "code",
   "execution_count": null,
   "metadata": {
    "scrolled": false
   },
   "outputs": [],
   "source": [
    "display(Markdown('### Summary \\n These are the summarized results for full electrification of the selected country by the final year'))\n",
    "summary_table"
   ]
  },
  {
   "cell_type": "code",
   "execution_count": null,
   "metadata": {},
   "outputs": [],
   "source": [
    "df_in = onsseter.df\n",
    "df_in['PVType2018'] = 1\n",
    "df_in['NewConnections2018'] = 0\n",
    "df_in['NewCapacity2018'] = 0\n",
    "df_in['InvestmentCost2018'] = 0\n",
    "df_in['TransmissionInvestmentCost2018'] = 0\n",
    "df_in['TotalEnergyPerCell2018'] = df_in['ElecPopCalib'] * df_in['ResidentialDemandTierCustom2018'] * df_in[SET_ELEC_CURRENT]\n",
    "SET_TRANSMISSION_INV = 'TransmissionInvestmentCost'\n",
    "\n",
    "elements = [\"1.Population\", \"2.New_Connections\", \"3.Capacity\", \"4.Investment\", \"5. Demand\", \"6. Transmission summaries\", \"7. Distribution summaries\", \"8. Capacity factor\"]\n",
    "techs = [\"Grid\", \"MG_Diesel\", \"MG_PV\", \"MG_Wind\", \"MG_Hydro\", \"SA_PV_1\", \"SA_PV_2\", \"SA_PV_3\", \"SA_PV_4\", \"SA_PV_5\"]\n",
    "years = [2018, 2025, 2030, 2040, 2050, 2060, 2070]\n",
    "tech_codes = [1, 4, 5, 6, 7, 8, 9, 10, 11, 12]\n",
    "tech_costs = {1: grid_power_plants_capital_cost, 4: mg_diesel_capital_cost, 5: mg_pv_capital_cost, 6: mg_wind_capital_cost, \n",
    "              7: mg_hydro_capital_cost, 8: sa_pv_capital_cost_1, 9: sa_pv_capital_cost_2, 10: sa_pv_capital_cost_3,\n",
    "              11: sa_pv_capital_cost_4, 12: sa_pv_capital_cost_5}\n",
    "\n",
    "\n",
    "for year in years:\n",
    "    df_in.loc[(df_in[SET_ELEC_FINAL_CODE + '{}'.format(year)] == 3) & (df_in['PVType' + '{}'.format(year)] == 1), SET_ELEC_FINAL_CODE + '{}'.format(year)] = 8\n",
    "    df_in.loc[(df_in[SET_ELEC_FINAL_CODE + '{}'.format(year)] == 3) & (df_in['PVType' + '{}'.format(year)] == 2), SET_ELEC_FINAL_CODE + '{}'.format(year)] = 9\n",
    "    df_in.loc[(df_in[SET_ELEC_FINAL_CODE + '{}'.format(year)] == 3) & (df_in['PVType' + '{}'.format(year)] == 3), SET_ELEC_FINAL_CODE + '{}'.format(year)] = 10\n",
    "    df_in.loc[(df_in[SET_ELEC_FINAL_CODE + '{}'.format(year)] == 3) & (df_in['PVType' + '{}'.format(year)] == 4), SET_ELEC_FINAL_CODE + '{}'.format(year)] = 11\n",
    "    df_in.loc[(df_in[SET_ELEC_FINAL_CODE + '{}'.format(year)] == 3) & (df_in['PVType' + '{}'.format(year)] == 5), SET_ELEC_FINAL_CODE + '{}'.format(year)] = 12\n",
    "\n",
    "df_electrified = df_in.loc[df_in[SET_ELEC_CURRENT] == 1]\n",
    "df_unelectrified = df_in.loc[df_in[SET_ELEC_CURRENT] == 0]\n",
    "\n",
    "sumtechs = []\n",
    "for element in elements:\n",
    "    for tech in techs:\n",
    "        sumtechs.append(element + \"_\" + tech)\n",
    "\n",
    "total_rows = len(sumtechs)\n",
    "\n",
    "electrified_sumtechs = pd.DataFrame(columns=years)\n",
    "unelectrified_sumtechs = pd.DataFrame(columns=years)\n",
    "combined_sumtechs = pd.DataFrame(columns=years)\n",
    "\n",
    "for row in range(0, total_rows):\n",
    "    electrified_sumtechs.loc[sumtechs[row]] = 0\n",
    "    unelectrified_sumtechs.loc[sumtechs[row]] = 0\n",
    "    combined_sumtechs.loc[sumtechs[row]] = 0\n",
    "\n",
    "i = 0\n",
    "\n",
    "# Adding pop summary (Million ppl)\n",
    "for code in tech_codes:\n",
    "    for year in years:\n",
    "        electrified_sumtechs[year][sumtechs[i]] = sum(df_electrified.loc[df_electrified[SET_ELEC_FINAL_CODE + \"{}\".format(year)] == code][SET_POP + \"{}\".format(year)])/1000000\n",
    "        unelectrified_sumtechs[year][sumtechs[i]] = sum(df_unelectrified.loc[df_unelectrified[SET_ELEC_FINAL_CODE + \"{}\".format(year)] == code][SET_POP + \"{}\".format(year)])/1000000\n",
    "        combined_sumtechs[year][sumtechs[i]] = sum(df_in.loc[df_in[SET_ELEC_FINAL_CODE + \"{}\".format(year)] == code][SET_POP + \"{}\".format(year)]) / 1000000\n",
    "    i += 1\n",
    "\n",
    "# Adding connections summary (Million ppl)\n",
    "for code in tech_codes:\n",
    "    for year in years:\n",
    "        electrified_sumtechs[year][sumtechs[i]] = sum(df_electrified.loc[df_electrified[SET_ELEC_FINAL_CODE + \"{}\".format(year)] == code][SET_NEW_CONNECTIONS + \"{}\".format(year)])/1000000\n",
    "        unelectrified_sumtechs[year][sumtechs[i]] = sum(df_unelectrified.loc[df_unelectrified[SET_ELEC_FINAL_CODE + \"{}\".format(year)] == code][SET_NEW_CONNECTIONS + \"{}\".format(year)])/1000000\n",
    "    i += 1\n",
    "\n",
    "# Adding capacity summaries (MW)\n",
    "for code in tech_codes:\n",
    "    for year in years:\n",
    "        electrified_sumtechs[year][sumtechs[i]] = sum(df_electrified.loc[df_electrified[SET_ELEC_FINAL_CODE + \"{}\".format(year)] == code][SET_NEW_CAPACITY + \"{}\".format(year)])/1000\n",
    "        unelectrified_sumtechs[year][sumtechs[i]] = sum(df_unelectrified.loc[df_unelectrified[SET_ELEC_FINAL_CODE + \"{}\".format(year)] == code][SET_NEW_CAPACITY + \"{}\".format(year)])/1000\n",
    "    i += 1\n",
    "\n",
    "# Adding investment summaries (Million USD)\n",
    "for code in tech_codes:\n",
    "    for year in years:\n",
    "        electrified_sumtechs[year][sumtechs[i]] = sum(df_electrified.loc[df_electrified[SET_ELEC_FINAL_CODE + \"{}\".format(year)] == code][SET_INVESTMENT_COST + \"{}\".format(year)])/1000000\n",
    "        unelectrified_sumtechs[year][sumtechs[i]] = sum(df_unelectrified.loc[df_unelectrified[SET_ELEC_FINAL_CODE + \"{}\".format(year)] == code][SET_INVESTMENT_COST + \"{}\".format(year)])/1000000\n",
    "    i += 1\n",
    "\n",
    "# Adding demand summaries (GWh)\n",
    "for code in tech_codes:\n",
    "    for year in years:\n",
    "        electrified_sumtechs[year][sumtechs[i]] = sum(df_electrified.loc[df_electrified[SET_ELEC_FINAL_CODE + \"{}\".format(year)] == code][SET_TOTAL_ENERGY_PER_CELL + \"{}\".format(year)])/1000000\n",
    "        unelectrified_sumtechs[year][sumtechs[i]] = sum(df_unelectrified.loc[df_unelectrified[SET_ELEC_FINAL_CODE + \"{}\".format(year)] == code][SET_TOTAL_ENERGY_PER_CELL + \"{}\".format(year)])/1000000\n",
    "    i += 1\n",
    "\n",
    "\n",
    "for code in tech_codes:\n",
    "    for year in years:\n",
    "        if code == 5 or code > 7:\n",
    "            if electrified_sumtechs[year][sumtechs[i-40]] > 0:\n",
    "                electrified_sumtechs[year][sumtechs[i]] = df_electrified.loc[df_electrified[SET_ELEC_FINAL_CODE + \"{}\".format(year)] == code][SET_GHI].mean()/8760\n",
    "            if unelectrified_sumtechs[year][sumtechs[i - 40]] > 0:\n",
    "                unelectrified_sumtechs[year][sumtechs[i]] = df_unelectrified.loc[df_unelectrified[SET_ELEC_FINAL_CODE + \"{}\".format(year)] == code][SET_GHI].mean() / 8760\n",
    "        elif code == 6:\n",
    "            if electrified_sumtechs[year][sumtechs[i - 40]] > 0:\n",
    "                electrified_sumtechs[year][sumtechs[i]] = df_electrified.loc[df_electrified[SET_ELEC_FINAL_CODE + \"{}\".format(year)] == code][SET_WINDCF].mean()\n",
    "            if unelectrified_sumtechs[year][sumtechs[i - 40]] > 0:\n",
    "                unelectrified_sumtechs[year][sumtechs[i]] = df_unelectrified.loc[df_unelectrified[SET_ELEC_FINAL_CODE + \"{}\".format(year)] == code][SET_WINDCF].mean()\n",
    "    i += 1\n",
    "\n",
    "all_sumtechs = electrified_sumtechs + unelectrified_sumtechs"
   ]
  },
  {
   "cell_type": "code",
   "execution_count": null,
   "metadata": {},
   "outputs": [],
   "source": []
  },
  {
   "cell_type": "markdown",
   "metadata": {},
   "source": [
    "## 9. Exporting results\n",
    "\n",
    "This code generates five csv files:\n",
    " - one containing all the results for the scenario created\n",
    " - three containing the summaries for the scenario created\n",
    " - one containing some if the key input variables of the scenario\n",
    "\n",
    "Before we proceed, please write the scenario_name in the first cell below. then move on to the next cell and run it to browse to the directory where you want to save your results. Sample file shall be located at .\\ gep-onsset\\sample_output. \n",
    "\n",
    "**Note that if you do not change the scenario name, the previous output files will be overwritten**"
   ]
  },
  {
   "cell_type": "code",
   "execution_count": null,
   "metadata": {
    "scrolled": true
   },
   "outputs": [],
   "source": []
  },
  {
   "cell_type": "code",
   "execution_count": null,
   "metadata": {
    "scrolled": true
   },
   "outputs": [],
   "source": [
    "list1 = [('Start_year',start_year,'','',''), \n",
    "         ('End_year',yearsofanalysis,'','',''),\n",
    "         ('End year electrification rate target',eleclimits,'','',''),\n",
    "         ('Prioritization', prioritization,'','',''),\n",
    "         ('Auto intensification distance', auto_intensification, '', '', 'Buffer distance (km) for automatic intensification if choosing prioritization 1'),\n",
    "         ('discount_rate',discount_rate,'','',''),\n",
    "         ('grid_generation_cost',grid_generation_cost,'','','This is the grid cost electricity USD/kWh as expected in the end year of the analysis'),\n",
    "         ('grid_power_plants_capital_cost',grid_power_plants_capital_cost,'','','The cost in USD/kW to for capacity upgrades of the grid-connected power plants'),\n",
    "         ('grid_losses',grid_losses,'','','The fraction of electricity lost in transmission and distribution (percentage)'),\n",
    "         ('existing_grid_cost_ratio',existing_grid_cost_ratio,'','','The additional cost per round of electrification (percentage)'),\n",
    "         ('diesel_price',diesel_price,'','','This is the diesel price in USD/liter as expected in the end year of the analysis'),\n",
    "         ('sa_diesel_capital_cost',sa_diesel_capital_cost,'','','Stand-alone Diesel capital cost (USD/kW) as expected in the years of the analysis'),\n",
    "         ('mg_diesel_capital_cost',mg_diesel_capital_cost,'','','Mini-grid Diesel capital cost (USD/kW) as expected in the years of the analysis'),\n",
    "         ('mg_pv_capital_cost',mg_pv_capital_cost,'','','Mini-grid PV capital cost (USD/kW) as expected in the years of the analysis'),\n",
    "         ('mg_wind_capital_cost',mg_wind_capital_cost,'','','Mini-grid Wind capital cost (USD/kW) as expected in the years of the analysis'),\n",
    "         ('mg_hydro_capital_cost',mg_hydro_capital_cost,'','','Mini-grid Hydro capital cost (USD/kW) as expected in the years of the analysis'),\n",
    "         ('sa_pv_capital_cost_1',sa_pv_capital_cost_1,'','','Stand-alone PV capital cost (USD/kW) for household systems under 20 W'),\n",
    "         ('sa_pv_capital_cost_2',sa_pv_capital_cost_2,'','','Stand-alone PV capital cost (USD/kW) for household systems between 21-50 W'),\n",
    "         ('sa_pv_capital_cost_3',sa_pv_capital_cost_3,'','','Stand-alone PV capital cost (USD/kW) for household systems between 51-100 W'),\n",
    "         ('sa_pv_capital_cost_4',sa_pv_capital_cost_4,'','','Stand-alone PV capital cost (USD/kW) for household systems between 101-200 W'),\n",
    "         ('sa_pv_capital_cost_5',sa_pv_capital_cost_5,'','','Stand-alone PV capital cost (USD/kW) for household systems over 200 W'),\n",
    "         ('mv_line_cost',mv_line_cost,'','','Cost of MV lines in USD/km'),\n",
    "         ('lv_line_cost',lv_line_cost,'','','Cost of LV lines in USD/km'),\n",
    "         ('mv_line_capacity',mv_line_capacity,'','','Capacity of MV lines in kW/line'),\n",
    "         ('lv_line_capacity',lv_line_capacity,'','','Capacity of LV lines in kW/line'),\n",
    "         ('lv_line_max_length',lv_line_max_length,'','','Maximum length of LV lines (km)'),\n",
    "         ('hv_line_cost',hv_line_cost,'','','Cost of HV lines in USD/km'),\n",
    "         ('hv_lv_transformer_cost',hv_lv_transformer_cost,'','','Cost of HV/MV transformer (USD/unit)'),\n",
    "         ('mv_increase_rate',mv_increase_rate,'','','percentage'),\n",
    "         ('max_grid_extension_dist',max_mv_line_dist,'','','Maximum distance that the grid may be extended by means of MV lines'),\n",
    "         ('annual_new_grid_connections_limit', annual_new_grid_connections_limit,'','','This is the maximum amount of new households that can be connected to the grid in one year (thousands)'),\n",
    "         ('grid_capacity_limit',annual_grid_cap_gen_limit,'','','This is the maximum generation capacity that can be added to the grid in one year (MW)'),\n",
    "         ]\n",
    "labels = ['Variable','Value', 'Source', 'Comments', 'Description']\n",
    "df_variables = pd.DataFrame.from_records(list1, columns=labels)"
   ]
  },
  {
   "cell_type": "code",
   "execution_count": null,
   "metadata": {
    "scrolled": true
   },
   "outputs": [],
   "source": [
    "# Returning the result as a csv file\n",
    "onsseter.df.to_csv(output_dir_results, index=False)\n",
    "\n",
    "# Returning the input variables as a csv file\n",
    "df_variables.to_csv(output_dir_variables, index=False)\n",
    "\n",
    "# Returning the summaries for initially unelectrified settlements\n",
    "unelectrified_sumtechs.to_csv(output_dir_unelectrified_summaries, index=True)\n",
    "\n",
    "# Returning the summaries for initially electrified settlements\n",
    "electrified_sumtechs.to_csv(output_dir_electrified_summaries, index=True)\n",
    "\n",
    "# Returning the combined summaries for all settlements\n",
    "all_sumtechs.to_csv(output_dir_combined_summaries, index=True)"
   ]
  },
  {
   "cell_type": "code",
   "execution_count": null,
   "metadata": {},
   "outputs": [],
   "source": []
  }
 ],
 "metadata": {
  "anaconda-cloud": {},
  "celltoolbar": "Raw Cell Format",
  "kernelspec": {
   "display_name": "Python 3 (ipykernel)",
   "language": "python",
   "name": "python3"
  },
  "language_info": {
   "codemirror_mode": {
    "name": "ipython",
    "version": 3
   },
   "file_extension": ".py",
   "mimetype": "text/x-python",
   "name": "python",
   "nbconvert_exporter": "python",
   "pygments_lexer": "ipython3",
   "version": "3.10.6"
  }
 },
 "nbformat": 4,
 "nbformat_minor": 2
}
